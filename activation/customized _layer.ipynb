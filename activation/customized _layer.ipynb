{
 "cells": [
  {
   "cell_type": "code",
   "execution_count": 1,
   "metadata": {},
   "outputs": [
    {
     "name": "stderr",
     "output_type": "stream",
     "text": [
      "/Users/jeremy.zhang/anaconda3/lib/python3.6/site-packages/h5py/__init__.py:36: FutureWarning: Conversion of the second argument of issubdtype from `float` to `np.floating` is deprecated. In future, it will be treated as `np.float64 == np.dtype(float).type`.\n",
      "  from ._conv import register_converters as _register_converters\n",
      "Using TensorFlow backend.\n",
      "/Users/jeremy.zhang/anaconda3/lib/python3.6/importlib/_bootstrap.py:219: RuntimeWarning: compiletime version 3.5 of module 'tensorflow.python.framework.fast_tensor_util' does not match runtime version 3.6\n",
      "  return f(*args, **kwds)\n"
     ]
    }
   ],
   "source": [
    "import keras\n",
    "from keras.models import Sequential\n",
    "from keras import layers\n",
    "from keras.datasets import mnist\n",
    "from keras import backend as K"
   ]
  },
  {
   "cell_type": "markdown",
   "metadata": {},
   "source": [
    "#### Customized Layer"
   ]
  },
  {
   "cell_type": "code",
   "execution_count": 17,
   "metadata": {},
   "outputs": [],
   "source": [
    "class antirectifier(layers.Layer):\n",
    "    def compute_output_shape(self, input_shape):\n",
    "        shape = list(input_shape)\n",
    "        assert len(shape) == 2  # only valid for 2D tensors\n",
    "        shape[-1] *= 2\n",
    "        return (shape[0], shape[1])\n",
    "\n",
    "    def call(self, inputs):\n",
    "        inputs -= K.mean(inputs, axis=1, keepdims=True)\n",
    "        inputs = K.l2_normalize(inputs, axis=1)\n",
    "        pos = K.relu(inputs)\n",
    "        neg = K.relu(-inputs)\n",
    "        return K.concatenate([pos, neg], axis=1)"
   ]
  },
  {
   "cell_type": "code",
   "execution_count": 3,
   "metadata": {},
   "outputs": [],
   "source": [
    "# global parameters\n",
    "batch_size = 128\n",
    "num_classes = 10\n",
    "epochs = 40"
   ]
  },
  {
   "cell_type": "markdown",
   "metadata": {},
   "source": [
    "#### Load Data"
   ]
  },
  {
   "cell_type": "code",
   "execution_count": 4,
   "metadata": {},
   "outputs": [
    {
     "name": "stdout",
     "output_type": "stream",
     "text": [
      "Downloading data from https://s3.amazonaws.com/img-datasets/mnist.npz\n",
      "11493376/11490434 [==============================] - 6s 1us/step\n"
     ]
    }
   ],
   "source": [
    "# the data, split between train and test sets\n",
    "(x_train, y_train), (x_test, y_test) = mnist.load_data()"
   ]
  },
  {
   "cell_type": "code",
   "execution_count": 13,
   "metadata": {},
   "outputs": [
    {
     "name": "stdout",
     "output_type": "stream",
     "text": [
      "60000 train samples\n",
      "10000 test samples\n"
     ]
    }
   ],
   "source": [
    "x_train = x_train.reshape(60000, 784)\n",
    "x_test = x_test.reshape(10000, 784)\n",
    "x_train = x_train.astype('float32')\n",
    "x_test = x_test.astype('float32')\n",
    "x_train /= 255\n",
    "x_test /= 255\n",
    "print(x_train.shape[0], 'train samples')\n",
    "print(x_test.shape[0], 'test samples')"
   ]
  },
  {
   "cell_type": "code",
   "execution_count": 9,
   "metadata": {},
   "outputs": [
    {
     "data": {
      "text/plain": [
       "array([5, 0, 4, 1, 9, 2, 1, 3, 1, 4], dtype=uint8)"
      ]
     },
     "execution_count": 9,
     "metadata": {},
     "output_type": "execute_result"
    }
   ],
   "source": [
    "y_train[:10]"
   ]
  },
  {
   "cell_type": "code",
   "execution_count": 10,
   "metadata": {},
   "outputs": [
    {
     "name": "stdout",
     "output_type": "stream",
     "text": [
      "(60000, 10)\n",
      "(10000, 10)\n"
     ]
    }
   ],
   "source": [
    "# convert class vectors to binary class matrices\n",
    "y_train = keras.utils.to_categorical(y_train, num_classes)\n",
    "y_test = keras.utils.to_categorical(y_test, num_classes)\n",
    "\n",
    "print(y_train.shape)\n",
    "print(y_test.shape)"
   ]
  },
  {
   "cell_type": "markdown",
   "metadata": {},
   "source": [
    "#### Model"
   ]
  },
  {
   "cell_type": "code",
   "execution_count": 18,
   "metadata": {},
   "outputs": [],
   "source": [
    "# build the model\n",
    "model = Sequential()\n",
    "model.add(layers.Dense(256, input_shape=(784,)))\n",
    "model.add(antirectifier())\n",
    "model.add(layers.Dropout(0.1))\n",
    "model.add(layers.Dense(256))\n",
    "model.add(antirectifier())\n",
    "model.add(layers.Dropout(0.1))\n",
    "model.add(layers.Dense(num_classes))\n",
    "model.add(layers.Activation('softmax'))\n",
    "\n",
    "# compile the model\n",
    "model.compile(loss='categorical_crossentropy',\n",
    "              optimizer='adam',\n",
    "              metrics=['accuracy'])"
   ]
  },
  {
   "cell_type": "markdown",
   "metadata": {},
   "source": [
    "#### Train"
   ]
  },
  {
   "cell_type": "code",
   "execution_count": 19,
   "metadata": {},
   "outputs": [
    {
     "name": "stdout",
     "output_type": "stream",
     "text": [
      "Train on 60000 samples, validate on 10000 samples\n",
      "Epoch 1/40\n",
      "60000/60000 [==============================] - 4s 70us/step - loss: 0.6671 - acc: 0.9113 - val_loss: 0.2070 - val_acc: 0.9565\n",
      "Epoch 2/40\n",
      "60000/60000 [==============================] - 4s 61us/step - loss: 0.1479 - acc: 0.9678 - val_loss: 0.1078 - val_acc: 0.9727\n",
      "Epoch 3/40\n",
      "60000/60000 [==============================] - 4s 61us/step - loss: 0.0896 - acc: 0.9779 - val_loss: 0.0867 - val_acc: 0.9762\n",
      "Epoch 4/40\n",
      "60000/60000 [==============================] - 4s 64us/step - loss: 0.0660 - acc: 0.9829 - val_loss: 0.0704 - val_acc: 0.9798\n",
      "Epoch 5/40\n",
      "60000/60000 [==============================] - 4s 62us/step - loss: 0.0513 - acc: 0.9866 - val_loss: 0.0654 - val_acc: 0.9815\n",
      "Epoch 6/40\n",
      "60000/60000 [==============================] - 4s 60us/step - loss: 0.0406 - acc: 0.9893 - val_loss: 0.0684 - val_acc: 0.9803\n",
      "Epoch 7/40\n",
      "60000/60000 [==============================] - 4s 61us/step - loss: 0.0348 - acc: 0.9908 - val_loss: 0.0665 - val_acc: 0.9800\n",
      "Epoch 8/40\n",
      "60000/60000 [==============================] - 4s 61us/step - loss: 0.0307 - acc: 0.9915 - val_loss: 0.0689 - val_acc: 0.9791\n",
      "Epoch 9/40\n",
      "60000/60000 [==============================] - 4s 61us/step - loss: 0.0263 - acc: 0.9930 - val_loss: 0.0670 - val_acc: 0.9813\n",
      "Epoch 10/40\n",
      "60000/60000 [==============================] - 4s 63us/step - loss: 0.0230 - acc: 0.9935 - val_loss: 0.0633 - val_acc: 0.9810\n",
      "Epoch 11/40\n",
      "60000/60000 [==============================] - 4s 63us/step - loss: 0.0209 - acc: 0.9939 - val_loss: 0.0637 - val_acc: 0.9821\n",
      "Epoch 12/40\n",
      "60000/60000 [==============================] - 4s 67us/step - loss: 0.0192 - acc: 0.9944 - val_loss: 0.0665 - val_acc: 0.9797\n",
      "Epoch 13/40\n",
      "60000/60000 [==============================] - 4s 65us/step - loss: 0.0174 - acc: 0.9952 - val_loss: 0.0639 - val_acc: 0.9821\n",
      "Epoch 14/40\n",
      "60000/60000 [==============================] - 4s 64us/step - loss: 0.0162 - acc: 0.9952 - val_loss: 0.0682 - val_acc: 0.9803\n",
      "Epoch 15/40\n",
      "60000/60000 [==============================] - 4s 65us/step - loss: 0.0155 - acc: 0.9957 - val_loss: 0.0590 - val_acc: 0.9835\n",
      "Epoch 16/40\n",
      "60000/60000 [==============================] - 4s 67us/step - loss: 0.0144 - acc: 0.9958 - val_loss: 0.0702 - val_acc: 0.9813\n",
      "Epoch 17/40\n",
      "60000/60000 [==============================] - 4s 69us/step - loss: 0.0115 - acc: 0.9965 - val_loss: 0.0690 - val_acc: 0.9812\n",
      "Epoch 18/40\n",
      "60000/60000 [==============================] - 4s 60us/step - loss: 0.0114 - acc: 0.9968 - val_loss: 0.0812 - val_acc: 0.9773\n",
      "Epoch 19/40\n",
      "60000/60000 [==============================] - 4s 62us/step - loss: 0.0101 - acc: 0.9971 - val_loss: 0.0676 - val_acc: 0.9817\n",
      "Epoch 20/40\n",
      "60000/60000 [==============================] - 4s 62us/step - loss: 0.0103 - acc: 0.9971 - val_loss: 0.0711 - val_acc: 0.9798\n",
      "Epoch 21/40\n",
      "60000/60000 [==============================] - 4s 62us/step - loss: 0.0105 - acc: 0.9970 - val_loss: 0.0674 - val_acc: 0.9818\n",
      "Epoch 22/40\n",
      "60000/60000 [==============================] - 4s 64us/step - loss: 0.0084 - acc: 0.9976 - val_loss: 0.0640 - val_acc: 0.9816\n",
      "Epoch 23/40\n",
      "60000/60000 [==============================] - 4s 67us/step - loss: 0.0105 - acc: 0.9968 - val_loss: 0.0785 - val_acc: 0.9801\n",
      "Epoch 24/40\n",
      "60000/60000 [==============================] - 4s 66us/step - loss: 0.0089 - acc: 0.9974 - val_loss: 0.0637 - val_acc: 0.9826\n",
      "Epoch 25/40\n",
      "60000/60000 [==============================] - 4s 65us/step - loss: 0.0074 - acc: 0.9978 - val_loss: 0.0827 - val_acc: 0.9785\n",
      "Epoch 26/40\n",
      "60000/60000 [==============================] - 4s 66us/step - loss: 0.0110 - acc: 0.9967 - val_loss: 0.0689 - val_acc: 0.9828\n",
      "Epoch 27/40\n",
      "60000/60000 [==============================] - 4s 67us/step - loss: 0.0085 - acc: 0.9975 - val_loss: 0.0665 - val_acc: 0.9834\n",
      "Epoch 28/40\n",
      "60000/60000 [==============================] - 4s 65us/step - loss: 0.0084 - acc: 0.9974 - val_loss: 0.0659 - val_acc: 0.9821\n",
      "Epoch 29/40\n",
      "60000/60000 [==============================] - 4s 66us/step - loss: 0.0064 - acc: 0.9981 - val_loss: 0.0708 - val_acc: 0.9815\n",
      "Epoch 30/40\n",
      "60000/60000 [==============================] - 4s 66us/step - loss: 0.0069 - acc: 0.9977 - val_loss: 0.0674 - val_acc: 0.9836\n",
      "Epoch 31/40\n",
      "60000/60000 [==============================] - 4s 65us/step - loss: 0.0076 - acc: 0.9977 - val_loss: 0.0689 - val_acc: 0.9837\n",
      "Epoch 32/40\n",
      "60000/60000 [==============================] - 4s 64us/step - loss: 0.0056 - acc: 0.9983 - val_loss: 0.0637 - val_acc: 0.9838\n",
      "Epoch 33/40\n",
      "60000/60000 [==============================] - 4s 68us/step - loss: 0.0060 - acc: 0.9983 - val_loss: 0.0701 - val_acc: 0.9841\n",
      "Epoch 34/40\n",
      "60000/60000 [==============================] - 4s 66us/step - loss: 0.0062 - acc: 0.9980 - val_loss: 0.0746 - val_acc: 0.9816\n",
      "Epoch 35/40\n",
      "60000/60000 [==============================] - 4s 68us/step - loss: 0.0064 - acc: 0.9980 - val_loss: 0.0651 - val_acc: 0.9838\n",
      "Epoch 36/40\n",
      "60000/60000 [==============================] - 4s 60us/step - loss: 0.0068 - acc: 0.9978 - val_loss: 0.0719 - val_acc: 0.9825\n",
      "Epoch 37/40\n",
      "60000/60000 [==============================] - 4s 62us/step - loss: 0.0072 - acc: 0.9976 - val_loss: 0.0707 - val_acc: 0.9830\n",
      "Epoch 38/40\n",
      "60000/60000 [==============================] - 4s 64us/step - loss: 0.0071 - acc: 0.9978 - val_loss: 0.0698 - val_acc: 0.9825\n",
      "Epoch 39/40\n",
      "60000/60000 [==============================] - 4s 60us/step - loss: 0.0050 - acc: 0.9986 - val_loss: 0.0657 - val_acc: 0.9837\n",
      "Epoch 40/40\n",
      "60000/60000 [==============================] - 4s 61us/step - loss: 0.0046 - acc: 0.9987 - val_loss: 0.0699 - val_acc: 0.9815\n"
     ]
    },
    {
     "data": {
      "text/plain": [
       "<keras.callbacks.History at 0x10f3399b0>"
      ]
     },
     "execution_count": 19,
     "metadata": {},
     "output_type": "execute_result"
    }
   ],
   "source": [
    "# train the model\n",
    "model.fit(x_train, y_train,\n",
    "          batch_size=batch_size,\n",
    "          epochs=epochs,\n",
    "          verbose=1,\n",
    "          validation_data=(x_test, y_test))"
   ]
  },
  {
   "cell_type": "markdown",
   "metadata": {},
   "source": [
    "#### Compare\n",
    "compare with an equivalent network\n",
    "with2x bigger Dense layers and `ReLU`"
   ]
  },
  {
   "cell_type": "code",
   "execution_count": 20,
   "metadata": {},
   "outputs": [],
   "source": [
    "# build the model\n",
    "model = Sequential()\n",
    "model.add(layers.Dense(512, input_shape=(784,), activation=\"relu\"))\n",
    "model.add(layers.Dropout(0.1))\n",
    "model.add(layers.Dense(256, activation=\"relu\"))\n",
    "model.add(layers.Dropout(0.1))\n",
    "model.add(layers.Dense(num_classes))\n",
    "model.add(layers.Activation('softmax'))\n",
    "\n",
    "# compile the model\n",
    "model.compile(loss='categorical_crossentropy',\n",
    "              optimizer='adam',\n",
    "              metrics=['accuracy'])"
   ]
  },
  {
   "cell_type": "code",
   "execution_count": 21,
   "metadata": {},
   "outputs": [
    {
     "name": "stdout",
     "output_type": "stream",
     "text": [
      "Train on 60000 samples, validate on 10000 samples\n",
      "Epoch 1/40\n",
      "60000/60000 [==============================] - 4s 68us/step - loss: 0.2410 - acc: 0.9285 - val_loss: 0.1166 - val_acc: 0.9633\n",
      "Epoch 2/40\n",
      "60000/60000 [==============================] - 4s 59us/step - loss: 0.0943 - acc: 0.9715 - val_loss: 0.0759 - val_acc: 0.9770\n",
      "Epoch 3/40\n",
      "60000/60000 [==============================] - 4s 61us/step - loss: 0.0627 - acc: 0.9800 - val_loss: 0.0670 - val_acc: 0.9789\n",
      "Epoch 4/40\n",
      "60000/60000 [==============================] - 4s 59us/step - loss: 0.0454 - acc: 0.9853 - val_loss: 0.0688 - val_acc: 0.9805\n",
      "Epoch 5/40\n",
      "60000/60000 [==============================] - 3s 57us/step - loss: 0.0387 - acc: 0.9872 - val_loss: 0.0693 - val_acc: 0.9781\n",
      "Epoch 6/40\n",
      "60000/60000 [==============================] - 3s 57us/step - loss: 0.0311 - acc: 0.9896 - val_loss: 0.0691 - val_acc: 0.9789\n",
      "Epoch 7/40\n",
      "60000/60000 [==============================] - 3s 56us/step - loss: 0.0251 - acc: 0.9913 - val_loss: 0.0709 - val_acc: 0.9805\n",
      "Epoch 8/40\n",
      "60000/60000 [==============================] - 3s 57us/step - loss: 0.0240 - acc: 0.9917 - val_loss: 0.0742 - val_acc: 0.9790\n",
      "Epoch 9/40\n",
      "60000/60000 [==============================] - 3s 58us/step - loss: 0.0184 - acc: 0.9937 - val_loss: 0.0621 - val_acc: 0.9832\n",
      "Epoch 10/40\n",
      "60000/60000 [==============================] - 4s 62us/step - loss: 0.0184 - acc: 0.9939 - val_loss: 0.0761 - val_acc: 0.9809\n",
      "Epoch 11/40\n",
      "60000/60000 [==============================] - 4s 60us/step - loss: 0.0179 - acc: 0.9936 - val_loss: 0.0718 - val_acc: 0.9820\n",
      "Epoch 12/40\n",
      "60000/60000 [==============================] - 4s 62us/step - loss: 0.0187 - acc: 0.9940 - val_loss: 0.0740 - val_acc: 0.9820\n",
      "Epoch 13/40\n",
      "60000/60000 [==============================] - 4s 60us/step - loss: 0.0125 - acc: 0.9960 - val_loss: 0.0866 - val_acc: 0.9791\n",
      "Epoch 14/40\n",
      "60000/60000 [==============================] - 4s 65us/step - loss: 0.0132 - acc: 0.9952 - val_loss: 0.0930 - val_acc: 0.9790\n",
      "Epoch 15/40\n",
      "60000/60000 [==============================] - 4s 66us/step - loss: 0.0142 - acc: 0.9949 - val_loss: 0.0976 - val_acc: 0.9795\n",
      "Epoch 16/40\n",
      "60000/60000 [==============================] - 4s 62us/step - loss: 0.0128 - acc: 0.9956 - val_loss: 0.0926 - val_acc: 0.9802\n",
      "Epoch 17/40\n",
      "60000/60000 [==============================] - 4s 62us/step - loss: 0.0097 - acc: 0.9966 - val_loss: 0.0703 - val_acc: 0.9840\n",
      "Epoch 18/40\n",
      "60000/60000 [==============================] - 4s 65us/step - loss: 0.0114 - acc: 0.9962 - val_loss: 0.0912 - val_acc: 0.9812\n",
      "Epoch 19/40\n",
      "60000/60000 [==============================] - 4s 68us/step - loss: 0.0150 - acc: 0.9948 - val_loss: 0.0901 - val_acc: 0.9818\n",
      "Epoch 20/40\n",
      "60000/60000 [==============================] - 4s 70us/step - loss: 0.0094 - acc: 0.9970 - val_loss: 0.0870 - val_acc: 0.9839\n",
      "Epoch 21/40\n",
      "60000/60000 [==============================] - 4s 68us/step - loss: 0.0083 - acc: 0.9969 - val_loss: 0.0841 - val_acc: 0.9835\n",
      "Epoch 22/40\n",
      "60000/60000 [==============================] - 4s 64us/step - loss: 0.0081 - acc: 0.9972 - val_loss: 0.0929 - val_acc: 0.9837\n",
      "Epoch 23/40\n",
      "60000/60000 [==============================] - 4s 61us/step - loss: 0.0112 - acc: 0.9965 - val_loss: 0.0784 - val_acc: 0.9840\n",
      "Epoch 24/40\n",
      "60000/60000 [==============================] - 3s 58us/step - loss: 0.0084 - acc: 0.9971 - val_loss: 0.1079 - val_acc: 0.9811\n",
      "Epoch 25/40\n",
      "60000/60000 [==============================] - 4s 67us/step - loss: 0.0077 - acc: 0.9974 - val_loss: 0.0927 - val_acc: 0.9829\n",
      "Epoch 26/40\n",
      "60000/60000 [==============================] - 4s 60us/step - loss: 0.0111 - acc: 0.9964 - val_loss: 0.0935 - val_acc: 0.9826\n",
      "Epoch 27/40\n",
      "60000/60000 [==============================] - 3s 56us/step - loss: 0.0096 - acc: 0.9969 - val_loss: 0.0870 - val_acc: 0.9830\n",
      "Epoch 28/40\n",
      "60000/60000 [==============================] - 3s 57us/step - loss: 0.0072 - acc: 0.9975 - val_loss: 0.0901 - val_acc: 0.9838\n",
      "Epoch 29/40\n",
      "60000/60000 [==============================] - 3s 57us/step - loss: 0.0094 - acc: 0.9971 - val_loss: 0.0924 - val_acc: 0.9824\n",
      "Epoch 30/40\n",
      "60000/60000 [==============================] - 3s 57us/step - loss: 0.0072 - acc: 0.9975 - val_loss: 0.0870 - val_acc: 0.9835\n",
      "Epoch 31/40\n",
      "60000/60000 [==============================] - 3s 56us/step - loss: 0.0089 - acc: 0.9974 - val_loss: 0.0928 - val_acc: 0.9844\n",
      "Epoch 32/40\n",
      "60000/60000 [==============================] - 3s 55us/step - loss: 0.0069 - acc: 0.9980 - val_loss: 0.0868 - val_acc: 0.9845\n",
      "Epoch 33/40\n",
      "60000/60000 [==============================] - 3s 54us/step - loss: 0.0091 - acc: 0.9972 - val_loss: 0.0828 - val_acc: 0.9851\n",
      "Epoch 34/40\n",
      "60000/60000 [==============================] - 3s 56us/step - loss: 0.0066 - acc: 0.9979 - val_loss: 0.0978 - val_acc: 0.9846\n",
      "Epoch 35/40\n",
      "60000/60000 [==============================] - 3s 55us/step - loss: 0.0064 - acc: 0.9979 - val_loss: 0.1098 - val_acc: 0.9825\n",
      "Epoch 36/40\n",
      "60000/60000 [==============================] - 3s 57us/step - loss: 0.0053 - acc: 0.9982 - val_loss: 0.1148 - val_acc: 0.9821\n",
      "Epoch 37/40\n",
      "60000/60000 [==============================] - 3s 57us/step - loss: 0.0074 - acc: 0.9978 - val_loss: 0.1188 - val_acc: 0.9801\n",
      "Epoch 38/40\n",
      "60000/60000 [==============================] - 4s 61us/step - loss: 0.0069 - acc: 0.9980 - val_loss: 0.0934 - val_acc: 0.9835\n",
      "Epoch 39/40\n",
      "60000/60000 [==============================] - 4s 59us/step - loss: 0.0057 - acc: 0.9981 - val_loss: 0.1007 - val_acc: 0.9839\n",
      "Epoch 40/40\n",
      "60000/60000 [==============================] - 3s 58us/step - loss: 0.0084 - acc: 0.9975 - val_loss: 0.0969 - val_acc: 0.9829\n"
     ]
    },
    {
     "data": {
      "text/plain": [
       "<keras.callbacks.History at 0x10d3f37b8>"
      ]
     },
     "execution_count": 21,
     "metadata": {},
     "output_type": "execute_result"
    }
   ],
   "source": [
    "model.fit(x_train, y_train,\n",
    "          batch_size=batch_size,\n",
    "          epochs=epochs,\n",
    "          verbose=1,\n",
    "          validation_data=(x_test, y_test))"
   ]
  },
  {
   "cell_type": "code",
   "execution_count": null,
   "metadata": {},
   "outputs": [],
   "source": []
  }
 ],
 "metadata": {
  "kernelspec": {
   "display_name": "Python 3",
   "language": "python",
   "name": "python3"
  },
  "language_info": {
   "codemirror_mode": {
    "name": "ipython",
    "version": 3
   },
   "file_extension": ".py",
   "mimetype": "text/x-python",
   "name": "python",
   "nbconvert_exporter": "python",
   "pygments_lexer": "ipython3",
   "version": "3.6.5"
  }
 },
 "nbformat": 4,
 "nbformat_minor": 2
}
